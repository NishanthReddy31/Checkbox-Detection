{
 "cells": [
  {
   "cell_type": "code",
   "execution_count": 87,
   "id": "1a478139",
   "metadata": {},
   "outputs": [],
   "source": [
    "import cv2\n",
    "import numpy as np"
   ]
  },
  {
   "cell_type": "code",
   "execution_count": 88,
   "id": "1cedc7b0",
   "metadata": {},
   "outputs": [],
   "source": [
    "img = cv2.imread('Raw_Dataset/img2.jpg')"
   ]
  },
  {
   "cell_type": "code",
   "execution_count": 89,
   "id": "b7a47d5b",
   "metadata": {},
   "outputs": [],
   "source": [
    "gray = cv2.cvtColor(img, cv2.COLOR_BGR2GRAY)\n",
    "ret, threshold = cv2.threshold(gray,170,255,cv2.THRESH_BINARY_INV)\n",
    "contours, hierarchy = cv2.findContours(threshold,cv2.RETR_TREE,cv2.CHAIN_APPROX_NONE)\n",
    "op = np.zeros(gray.shape,np.uint8)\n",
    "mask = np.zeros(gray.shape,np.uint8)"
   ]
  },
  {
   "cell_type": "code",
   "execution_count": 90,
   "id": "84ce1950",
   "metadata": {},
   "outputs": [],
   "source": [
    "list1 = []"
   ]
  },
  {
   "cell_type": "code",
   "execution_count": 91,
   "id": "d096156a",
   "metadata": {},
   "outputs": [],
   "source": [
    "for i in range(0, len(contours)):\n",
    "    cnt = contours[i]\n",
    "    epsilon = 0.1*cv2.arcLength(cnt,True)\n",
    "    approx = cv2.approxPolyDP(cnt,epsilon,True)\n",
    "    size = cv2.contourArea(approx)\n",
    "    extLeft = tuple(cnt[cnt[:, :, 0].argmin()][0])\n",
    "    extRight = tuple(cnt[cnt[:, :, 0].argmax()][0])\n",
    "    distance = np.sqrt((extLeft[0] - extRight[0])**2 + (extLeft[1] - extRight[1])**2)\n",
    "    x,y,w,h = cv2.boundingRect(cnt)\n",
    "    mask[x:x+h, y:y+w]=0\n",
    "    if 700 > size > 220:\n",
    "        cv2.drawContours(mask,contours,i,255,-1)\n",
    "        cv2.drawContours(op,contours,i,255,2)\n",
    "#     elif distance>30:\n",
    "#         cv2.drawContours(op,contours,i,0,2)\n",
    "    elif 10 < distance < 20 and size > 25:\n",
    "        list1.append(cnt)\n",
    "#     elif 0 < distance < 20 and size \n",
    "#         cv2.drawContours(op,contours,i,255,2)\n"
   ]
  },
  {
   "cell_type": "code",
   "execution_count": 92,
   "id": "7d60ae7d",
   "metadata": {},
   "outputs": [],
   "source": [
    "for i in list1:        \n",
    "    cv2.drawContours(op, [i], -1, (255,255,255), -1)"
   ]
  },
  {
   "cell_type": "code",
   "execution_count": 93,
   "id": "898aff73",
   "metadata": {},
   "outputs": [],
   "source": [
    "cv2.bitwise_not(op,op)\n",
    "cv2.imwrite('check_box.png', op)\n",
    "cv2.imshow('checkbox_image', op)\n",
    "cv2.waitKey(0)\n",
    "cv2.destroyAllWindows()"
   ]
  },
  {
   "cell_type": "code",
   "execution_count": null,
   "id": "5b6007d6",
   "metadata": {},
   "outputs": [],
   "source": []
  }
 ],
 "metadata": {
  "kernelspec": {
   "display_name": "Python 3",
   "language": "python",
   "name": "python3"
  },
  "language_info": {
   "codemirror_mode": {
    "name": "ipython",
    "version": 3
   },
   "file_extension": ".py",
   "mimetype": "text/x-python",
   "name": "python",
   "nbconvert_exporter": "python",
   "pygments_lexer": "ipython3",
   "version": "3.8.8"
  }
 },
 "nbformat": 4,
 "nbformat_minor": 5
}
